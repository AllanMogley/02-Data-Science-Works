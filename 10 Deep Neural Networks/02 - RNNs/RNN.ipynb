{
 "cells": [
  {
   "cell_type": "code",
   "execution_count": null,
   "metadata": {},
   "outputs": [],
   "source": [
    "# import tensorflow as tf\n",
    "import pandas as pd\n",
    "import numpy as np"
   ]
  },
  {
   "cell_type": "code",
   "execution_count": null,
   "metadata": {},
   "outputs": [],
   "source": [
    "# -------------------------------------------------------------\n",
    "# READ AND CLEAN STRING DATA\n",
    "# -------------------------------------------------------------\n",
    "\n",
    "data = pd.read_csv('00 - Data/Data_In.csv')\n",
    "data.columns = data.columns.str.replace(' ', '_')\n",
    "data.columns = data.columns.str.lower()\n",
    "data['date'] = pd.to_datetime(data['date'])"
   ]
  },
  {
   "cell_type": "code",
   "execution_count": null,
   "metadata": {},
   "outputs": [],
   "source": [
    "# -------------------------------------------------------------\n",
    "# CUT DATA INTO BINS\n",
    "# -------------------------------------------------------------\n",
    "\n",
    "data_cat = pd.qcut(data['date'], 200, labels = range(0, 200))\n",
    "\n",
    "# Merge the Bins and DF\n",
    "data_bin = pd.merge(left = data, right = data_cat, left_index = True, right_index = True)\n",
    "data_bin.rename(columns = {'date_y' : 'bins'}, inplace = True)\n",
    "\n",
    "# Groub by Bins\n",
    "data_g = data_bin.groupby('bins')\n",
    "data_g.get_group(0).tail(20)"
   ]
  }
 ],
 "metadata": {
  "kernelspec": {
   "display_name": "DSC",
   "language": "python",
   "name": "python3"
  },
  "language_info": {
   "codemirror_mode": {
    "name": "ipython",
    "version": 3
   },
   "file_extension": ".py",
   "mimetype": "text/x-python",
   "name": "python",
   "nbconvert_exporter": "python",
   "pygments_lexer": "ipython3",
   "version": "3.10.12"
  }
 },
 "nbformat": 4,
 "nbformat_minor": 2
}
