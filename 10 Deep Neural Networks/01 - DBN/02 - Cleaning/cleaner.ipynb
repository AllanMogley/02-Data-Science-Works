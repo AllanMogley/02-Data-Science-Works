{
 "cells": [
  {
   "cell_type": "code",
   "execution_count": 5,
   "metadata": {},
   "outputs": [],
   "source": [
    "import pandas as pd\n",
    "import numpy as np"
   ]
  },
  {
   "cell_type": "code",
   "execution_count": 85,
   "metadata": {},
   "outputs": [],
   "source": [
    "df = pd.read_csv('../01 - Data/1.txt', header = 26)\n",
    "\n",
    "df1 = pd.DataFrame()\n",
    "# df1['CHANEL  1'] = df.iloc([0].str.slice(0, 14))\n",
    "df1['CHANEL  1'] = df.iloc[0:1, 0].str.slice(0,11)\n",
    "df1['CHAEXT  1'] = df.iloc[1:2, 0].str.slice(0,14)\n",
    "# df1['CHANEL  2'] = df[0].str.slice(16, 30)\n",
    "# df1['CHAEXT  2'] = df[0].str.slice(16, 30)\n",
    "# df1['CHANEL  3'] = df[0].str.slice(16, 30)\n",
    "# df1['CHANEL  4'] = df[0].str.slice(16, 30)\n",
    "# df1['CHANEL  5'] = df[0].str.slice(16, 30)\n",
    "\n",
    "def ch1():\n",
    "    df3 = pd.DataFrame()\n",
    "    df3['CH 1'] = df.iloc[::7, 0].str.split(' ', expand = True).stack().reset_index(level=1, drop=True).to_frame('column_name')\n",
    "    df3 = df3.replace('', np.nan).dropna(axis=0, how='all')\n",
    "    df3['CH 1'] = pd.to_numeric(df3['CH 1'], errors='coerce')\n",
    "    # print('ok')\n",
    "    return df3\n",
    "\n",
    "d = ch1()\n",
    "d.head(30)\n",
    "d.to_csv('ch 1,.csv', index = False)"
   ]
  }
 ],
 "metadata": {
  "kernelspec": {
   "display_name": "DSC",
   "language": "python",
   "name": "python3"
  },
  "language_info": {
   "codemirror_mode": {
    "name": "ipython",
    "version": 3
   },
   "file_extension": ".py",
   "mimetype": "text/x-python",
   "name": "python",
   "nbconvert_exporter": "python",
   "pygments_lexer": "ipython3",
   "version": "3.7.14"
  }
 },
 "nbformat": 4,
 "nbformat_minor": 2
}
