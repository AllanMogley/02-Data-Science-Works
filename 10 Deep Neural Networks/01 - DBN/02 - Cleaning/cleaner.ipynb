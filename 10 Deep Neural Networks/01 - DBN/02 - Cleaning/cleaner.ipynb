{
 "cells": [
  {
   "cell_type": "code",
   "execution_count": 5,
   "metadata": {},
   "outputs": [],
   "source": [
    "import pandas as pd\n",
    "import numpy as np"
   ]
  },
  {
   "cell_type": "code",
   "execution_count": 163,
   "metadata": {},
   "outputs": [],
   "source": [
    "df = pd.read_csv('../01 - Data/1.txt', header = 26)"
   ]
  },
  {
   "cell_type": "code",
   "execution_count": 164,
   "metadata": {},
   "outputs": [],
   "source": [
    "# A FUNCTION TO DESTRIP ALL CHANNELS 1s IN THE FILE\n",
    "# ======================================================================================\n",
    "\n",
    "\n",
    "def ch1():\n",
    "    df3 = pd.DataFrame()\n",
    "    # Split at the whitespace and add next elements to new Rows\n",
    "    df3['CH 1'] = df.iloc[::7, 0].str.split(' ', expand = True).stack().reset_index(level=1, drop=True).to_frame('column_name')\n",
    "    df3 = df3.replace('', np.nan).dropna(axis=0, how='all')\n",
    "    df3['CH 1'] = pd.to_numeric(df3['CH 1'], errors='coerce')\n",
    "    # print('ok')\n",
    "    return df3\n",
    "\n",
    "c1 = ch1()\n",
    "c1.to_csv('CHANEL 1.csv', index = False)"
   ]
  },
  {
   "cell_type": "code",
   "execution_count": 168,
   "metadata": {},
   "outputs": [],
   "source": [
    "def ch2():\n",
    "    dfa = df\n",
    "    df1 = pd.DataFrame()\n",
    "\n",
    "    # Remove all Rows with a WhiteSpace uding ~ to set mask as False\n",
    "    mask = ~dfa.iloc[:, 0].str.startswith('  ')\n",
    "    dfa = dfa[mask]\n",
    "\n",
    "    # Extract first 15 elements subsequently at 6 row interval\n",
    "    df1 = pd.DataFrame()\n",
    "    for i in range(0, len(dfa), 6):\n",
    "        for j in range(0, len(dfa.iloc[i, 0]), 15):\n",
    "            new_row = {'CHAEXT 1': dfa.iloc[i, 0][j:j+15]}\n",
    "            df1 = df1.append(new_row, ignore_index=True)\n",
    "\n",
    "    df1 = pd.to_numeric(df1['CHAEXT 1'], errors='coerce')\n",
    "    return df1\n",
    "\n",
    "c2 = ch2()     \n",
    "c2.to_csv('CHAEXT 1.csv', index = False)"
   ]
  }
 ],
 "metadata": {
  "kernelspec": {
   "display_name": "DSC",
   "language": "python",
   "name": "python3"
  },
  "language_info": {
   "codemirror_mode": {
    "name": "ipython",
    "version": 3
   },
   "file_extension": ".py",
   "mimetype": "text/x-python",
   "name": "python",
   "nbconvert_exporter": "python",
   "pygments_lexer": "ipython3",
   "version": "3.7.14"
  }
 },
 "nbformat": 4,
 "nbformat_minor": 2
}
