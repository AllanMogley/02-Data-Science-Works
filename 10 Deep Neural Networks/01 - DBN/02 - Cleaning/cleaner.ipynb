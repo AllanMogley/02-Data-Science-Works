{
 "cells": [
  {
   "cell_type": "code",
   "execution_count": 5,
   "metadata": {},
   "outputs": [],
   "source": [
    "import pandas as pd\n",
    "import numpy as np"
   ]
  },
  {
   "cell_type": "code",
   "execution_count": 21,
   "metadata": {},
   "outputs": [
    {
     "data": {
      "text/html": [
       "<div>\n",
       "<style scoped>\n",
       "    .dataframe tbody tr th:only-of-type {\n",
       "        vertical-align: middle;\n",
       "    }\n",
       "\n",
       "    .dataframe tbody tr th {\n",
       "        vertical-align: top;\n",
       "    }\n",
       "\n",
       "    .dataframe thead th {\n",
       "        text-align: right;\n",
       "    }\n",
       "</style>\n",
       "<table border=\"1\" class=\"dataframe\">\n",
       "  <thead>\n",
       "    <tr style=\"text-align: right;\">\n",
       "      <th></th>\n",
       "      <th>CH 1</th>\n",
       "    </tr>\n",
       "  </thead>\n",
       "  <tbody>\n",
       "    <tr>\n",
       "      <th>0</th>\n",
       "      <td>0.01320</td>\n",
       "    </tr>\n",
       "    <tr>\n",
       "      <th>0</th>\n",
       "      <td>0.00584</td>\n",
       "    </tr>\n",
       "    <tr>\n",
       "      <th>0</th>\n",
       "      <td>32.00000</td>\n",
       "    </tr>\n",
       "    <tr>\n",
       "      <th>0</th>\n",
       "      <td>2.00000</td>\n",
       "    </tr>\n",
       "  </tbody>\n",
       "</table>\n",
       "</div>"
      ],
      "text/plain": [
       "       CH 1\n",
       "0   0.01320\n",
       "0   0.00584\n",
       "0  32.00000\n",
       "0   2.00000"
      ]
     },
     "execution_count": 21,
     "metadata": {},
     "output_type": "execute_result"
    }
   ],
   "source": [
    "df = pd.read_csv('../01 - Data/test.txt', header = None)\n",
    "\n",
    "df1 = pd.DataFrame()\n",
    "# df1['CHANEL  1'] = df.iloc([0].str.slice(0, 14))\n",
    "df1['CHANEL  1'] = df.iloc[0:1, 0].str.slice(0,11)\n",
    "df1['CHAEXT  1'] = df.iloc[1:2, 0].str.slice(0,14)\n",
    "# df1['CHANEL  2'] = df[0].str.slice(16, 30)\n",
    "# df1['CHAEXT  2'] = df[0].str.slice(16, 30)\n",
    "# df1['CHANEL  3'] = df[0].str.slice(16, 30)\n",
    "# df1['CHANEL  4'] = df[0].str.slice(16, 30)\n",
    "# df1['CHANEL  5'] = df[0].str.slice(16, 30)\n",
    "\n",
    "df3 = pd.DataFrame()\n",
    "df3['CH 1'] = df.iloc[0:1, 0].str.split(' ', expand = True).stack().reset_index(level=1, drop=True).to_frame('column_name')\n",
    "df3['CH 1'].unique()\n",
    "df3 = df3.replace('', np.nan).dropna(axis=0, how='all')\n",
    "df3 = df3.replace('.0', 1)\n",
    "df3['CH 1'] = pd.to_numeric(df3['CH 1'], errors='coerce')\n",
    "df3\n"
   ]
  }
 ],
 "metadata": {
  "kernelspec": {
   "display_name": "DSC",
   "language": "python",
   "name": "python3"
  },
  "language_info": {
   "codemirror_mode": {
    "name": "ipython",
    "version": 3
   },
   "file_extension": ".py",
   "mimetype": "text/x-python",
   "name": "python",
   "nbconvert_exporter": "python",
   "pygments_lexer": "ipython3",
   "version": "3.7.14"
  }
 },
 "nbformat": 4,
 "nbformat_minor": 2
}
