{
 "cells": [
  {
   "cell_type": "code",
   "execution_count": 1,
   "metadata": {},
   "outputs": [
    {
     "name": "stderr",
     "output_type": "stream",
     "text": [
      "/home/allan/.virtualenvs/DSC/lib/python3.7/site-packages/pandas/compat/__init__.py:124: UserWarning: Could not import the lzma module. Your installed Python is incomplete. Attempting to use lzma compression will result in a RuntimeError.\n",
      "  warnings.warn(msg)\n"
     ]
    }
   ],
   "source": [
    "import pandas as pd\n",
    "import numpy as np"
   ]
  },
  {
   "cell_type": "code",
   "execution_count": 18,
   "metadata": {},
   "outputs": [],
   "source": [
    "df = pd.read_csv('../01 - Data/1.txt', header = 26)"
   ]
  },
  {
   "cell_type": "code",
   "execution_count": 19,
   "metadata": {},
   "outputs": [],
   "source": [
    "# A FUNCTION TO DESTRIP ALL CHANNELS 1s IN THE FILE\n",
    "# ======================================================================================\n",
    "\n",
    "\n",
    "def ch1():\n",
    "    df1 = pd.DataFrame()\n",
    "    # Split at the whitespace and add next elements to new Rows\n",
    "    df1['CHANEL 1'] = df.iloc[::7, 0].str.split(' ', expand = True).stack().reset_index(level=1, drop=True).to_frame('column_name')\n",
    "    df1 = df1.replace('', np.nan).dropna(axis=0, how='all')\n",
    "    df1['CHANEL 1'] = pd.to_numeric(df1['CHANEL 1'], errors='coerce')\n",
    "    # print('ok')\n",
    "    return df1\n",
    "\n",
    "c1 = ch1()\n",
    "c1.to_csv('CHANEL 1.csv', index = False)"
   ]
  },
  {
   "cell_type": "code",
   "execution_count": 20,
   "metadata": {},
   "outputs": [],
   "source": [
    "# A FUNCTION TO DESTRIP ALL CHANNELS 1s EXT IN THE FILE\n",
    "# ======================================================================================\n",
    "\n",
    "\n",
    "def chext1():\n",
    "    dfa = df\n",
    "\n",
    "    # Remove all Rows with a WhiteSpace uding ~ to set the mask as False or rather reversed/inversed\n",
    "    mask = ~dfa.iloc[:, 0].str.startswith('  ')\n",
    "    dfa = dfa[mask]\n",
    "\n",
    "    # Extract first 15 elements subsequently at 6 row interval\n",
    "    df1ex = pd.DataFrame()\n",
    "    for i in range(0, len(dfa), 6):\n",
    "        for j in range(0, len(dfa.iloc[i, 0]), 15):\n",
    "            new_row = {'CHAEXT 1': dfa.iloc[i, 0][j:j+15]}\n",
    "            df1ex = df1ex.append(new_row, ignore_index=True)\n",
    "\n",
    "    df1ex = pd.to_numeric(df1ex['CHAEXT 1'], errors='coerce')\n",
    "    return df1ex\n",
    "\n",
    "c1ex = chext1()     \n",
    "c1ex.to_csv('CHAEXT 1.csv', index = False)"
   ]
  },
  {
   "cell_type": "code",
   "execution_count": 21,
   "metadata": {},
   "outputs": [],
   "source": [
    "# A FUNCTION TO DESTRIP ALL CHANNEL 2s IN THE FILE\n",
    "# ======================================================================================\n",
    "\n",
    "\n",
    "def ch2():\n",
    "    dfb = df\n",
    "\n",
    "    # Remove all Rows with a WhiteSpace uding ~ to set mask as False\n",
    "    mask = ~dfb.iloc[:, 0].str.startswith('  ')\n",
    "    dfb = dfb[mask]\n",
    "\n",
    "    # Extract first 15 elements subsequently at 6 row interval\n",
    "    df2 = pd.DataFrame()\n",
    "    for i in range(1, len(dfb), 6):\n",
    "        for j in range(0, len(dfb.iloc[i, 0]), 15):\n",
    "            new_row = {'CHANEL 2': dfb.iloc[i, 0][j:j+15]}\n",
    "            df2 = df2.append(new_row, ignore_index=True)\n",
    "\n",
    "    df2 = pd.to_numeric(df2['CHANEL 2'], errors='coerce')\n",
    "    return df2\n",
    "\n",
    "c2 = ch2()     \n",
    "c2.to_csv('CHANEL 2.csv', index = False)"
   ]
  },
  {
   "cell_type": "code",
   "execution_count": 23,
   "metadata": {},
   "outputs": [],
   "source": [
    "# A FUNCTION TO DESTRIP ALL CHAEXT 2s IN THE FILE\n",
    "# ======================================================================================\n",
    "\n",
    "\n",
    "def chext2():\n",
    "    dfc = df\n",
    "\n",
    "    # Remove all Rows with a WhiteSpace uding ~ to set mask as False\n",
    "    mask = ~dfc.iloc[:, 0].str.startswith('  ')\n",
    "    dfc = dfc[mask]\n",
    "\n",
    "    # Extract first 15 elements subsequently at 6 row interval\n",
    "    df2ex = pd.DataFrame()\n",
    "    for i in range(2, len(dfc), 6):\n",
    "        for j in range(0, len(dfc.iloc[i, 0]), 15):\n",
    "            new_row = {'CHAEXT 2': dfc.iloc[i, 0][j:j+15]}\n",
    "            df2ex = df2ex.append(new_row, ignore_index=True)\n",
    "\n",
    "    df2ex = pd.to_numeric(df2ex['CHAEXT 2'], errors='coerce')\n",
    "    return df2ex\n",
    "\n",
    "c2ex = chext2()     \n",
    "c2ex.to_csv('CHAEXT 2.csv', index = False)"
   ]
  },
  {
   "cell_type": "code",
   "execution_count": 25,
   "metadata": {},
   "outputs": [],
   "source": [
    "# A FUNCTION TO DESTRIP ALL CHANEL 3s IN THE FILE\n",
    "# ======================================================================================\n",
    "\n",
    "\n",
    "def ch3():\n",
    "    dfd = df\n",
    "\n",
    "    # Remove all Rows with a WhiteSpace uding ~ to set mask as False\n",
    "    mask = ~dfd.iloc[:, 0].str.startswith('  ')\n",
    "    dfd = dfd[mask]\n",
    "\n",
    "    # Extract first 15 elements subsequently at 6 row interval\n",
    "    df3 = pd.DataFrame()\n",
    "    for i in range(3, len(dfd), 6):\n",
    "        for j in range(0, len(dfd.iloc[i, 0]), 15):\n",
    "            new_row = {'CHANEL 3': dfd.iloc[i, 0][j:j+15]}\n",
    "            df3 = df3.append(new_row, ignore_index=True)\n",
    "\n",
    "    df3 = pd.to_numeric(df3['CHANEL 3'], errors='coerce')\n",
    "    return df3\n",
    "\n",
    "c3 = ch3()     \n",
    "c3.to_csv('CHANEL 3.csv', index = False)"
   ]
  },
  {
   "cell_type": "code",
   "execution_count": 26,
   "metadata": {},
   "outputs": [],
   "source": [
    "# A FUNCTION TO DESTRIP ALL CHANEL 4s IN THE FILE\n",
    "# ======================================================================================\n",
    "\n",
    "\n",
    "def ch4():\n",
    "    dfc = df\n",
    "\n",
    "    # Remove all Rows with a WhiteSpace uding ~ to set mask as False\n",
    "    mask = ~dfc.iloc[:, 0].str.startswith('  ')\n",
    "    dfc = dfc[mask]\n",
    "\n",
    "    # Extract first 15 elements subsequently at 6 row interval\n",
    "    df4 = pd.DataFrame()\n",
    "    for i in range(4, len(dfc), 6):\n",
    "        for j in range(0, len(dfc.iloc[i, 0]), 15):\n",
    "            new_row = {'CHANEL 4': dfc.iloc[i, 0][j:j+15]}\n",
    "            df4 = df4.append(new_row, ignore_index=True)\n",
    "\n",
    "    df4 = pd.to_numeric(df4['CHANEL 4'], errors='coerce')\n",
    "    return df4\n",
    "\n",
    "c4 = ch4()     \n",
    "c4.to_csv('CHANEL 4.csv', index = False)"
   ]
  },
  {
   "cell_type": "code",
   "execution_count": 29,
   "metadata": {},
   "outputs": [],
   "source": [
    "# A FUNCTION TO DESTRIP ALL CHANEL 5s IN THE FILE\n",
    "# ======================================================================================\n",
    "\n",
    "\n",
    "def ch5():\n",
    "    dfd = df\n",
    "\n",
    "    # Remove all Rows with a WhiteSpace uding ~ to set mask as False\n",
    "    mask = ~dfd.iloc[:, 0].str.startswith('  ')\n",
    "    dfd = dfd[mask]\n",
    "\n",
    "    # Extract first 15 elements subsequently at 6 row interval\n",
    "    df5 = pd.DataFrame()\n",
    "    for i in range(5, len(dfd), 6):\n",
    "        for j in range(0, len(dfd.iloc[i, 0]), 15):\n",
    "            new_row = {'CHANEL 5': dfd.iloc[i, 0][j:j+15]}\n",
    "            df5 = df5.append(new_row, ignore_index=True)\n",
    "\n",
    "    df5 = pd.to_numeric(df5['CHANEL 5'], errors='coerce')\n",
    "    return df5\n",
    "\n",
    "c5 = ch5()     \n",
    "c5.to_csv('CHANEL 5.csv', index = False)"
   ]
  },
  {
   "cell_type": "code",
   "execution_count": 53,
   "metadata": {},
   "outputs": [],
   "source": [
    "merged = pd.concat([c1ex, c2, c2ex, c3, c4, c5], axis = 1)\n",
    "merged.head(10)\n",
    "merged.to_csv('Joined.csv', index=True)"
   ]
  }
 ],
 "metadata": {
  "kernelspec": {
   "display_name": "DSC",
   "language": "python",
   "name": "python3"
  },
  "language_info": {
   "codemirror_mode": {
    "name": "ipython",
    "version": 3
   },
   "file_extension": ".py",
   "mimetype": "text/x-python",
   "name": "python",
   "nbconvert_exporter": "python",
   "pygments_lexer": "ipython3",
   "version": "3.7.14"
  }
 },
 "nbformat": 4,
 "nbformat_minor": 2
}
