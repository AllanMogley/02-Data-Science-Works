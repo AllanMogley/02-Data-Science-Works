{
 "cells": [
  {
   "cell_type": "code",
   "execution_count": 9,
   "metadata": {},
   "outputs": [
    {
     "data": {
      "text/plain": [
       "['BLDS', 'Bounds', 'Features', 'Roads', 'layer_styles']"
      ]
     },
     "execution_count": 9,
     "metadata": {},
     "output_type": "execute_result"
    }
   ],
   "source": [
    "import pandas as pd\n",
    "import geopandas as gpd\n",
    "import fiona\n",
    "\n",
    "path = \"Raw_Data/Jkuat_Raw.gpkg\"\n",
    "fiona.listlayers(path)"
   ]
  },
  {
   "cell_type": "markdown",
   "metadata": {},
   "source": [
    "### Read Layers"
   ]
  },
  {
   "cell_type": "code",
   "execution_count": 156,
   "metadata": {},
   "outputs": [],
   "source": [
    "# Read Layers\n",
    "gdf_bld = gpd.read_file(path, layer = \"BLDS\")\n",
    "gdf_rd = gpd.read_file(path, layer = \"Roads\")\n",
    "gdf_feat = gpd.read_file(path, layer = \"Features\")\n"
   ]
  },
  {
   "cell_type": "markdown",
   "metadata": {},
   "source": [
    "### Filter & Clean Columns"
   ]
  },
  {
   "cell_type": "code",
   "execution_count": 157,
   "metadata": {},
   "outputs": [
    {
     "data": {
      "text/plain": [
       "name        255\n",
       "natural      60\n",
       "geometry      0\n",
       "dtype: int64"
      ]
     },
     "execution_count": 157,
     "metadata": {},
     "output_type": "execute_result"
    }
   ],
   "source": [
    "# Clean Buildings\n",
    "# ========================================================================\n",
    "gdf2_bld = gdf_bld\n",
    "for col in gdf2_bld.columns:\n",
    "    if gdf2_bld[col].isnull().sum() > 300:\n",
    "        gdf2_bld.drop(col, axis = 1, inplace = True)\n",
    "\n",
    "gdf2_bld.drop(columns = [\"osm_type\",\"full_id\", \"osm_id\"], axis = 1, inplace = True)\n",
    "# gdf2_bld.isnull().sum()\n",
    "\n",
    "\n",
    "# Clean Roads\n",
    "# ========================================================================\n",
    "gdf2_rd = gdf_rd\n",
    "for col in gdf2_rd.columns:\n",
    "    if gdf2_rd[col].isnull().sum() > 100:\n",
    "        gdf2_rd.drop(col, axis = 1, inplace = True)\n",
    "\n",
    "gdf2_rd.drop(columns = [\"full_id\", \"osm_type\",\"osm_id\"], axis = 1, inplace = True)\n",
    "gdf2_rd.isnull().sum()\n",
    "\n",
    "\n",
    "# Clean Features\n",
    "# ========================================================================\n",
    "gdf2_feat = gdf_feat\n",
    "gdf2_feat.set_index(\"name\", inplace = True)\n",
    "for col in gdf2_feat.columns:\n",
    "    if gdf2_feat[col].isnull().sum() > 200:\n",
    "        gdf2_feat.drop(col, axis = 1, inplace = True)\n",
    "\n",
    "gdf2_feat.drop(columns = [\"full_id\", \"osm_type\",\"osm_id\"], axis = 1, inplace = True)\n",
    "gdf2_feat.reset_index(inplace = True)\n",
    "gdf2_feat.isnull().sum()"
   ]
  },
  {
   "cell_type": "markdown",
   "metadata": {},
   "source": [
    "### Export Layers"
   ]
  },
  {
   "cell_type": "code",
   "execution_count": 158,
   "metadata": {},
   "outputs": [],
   "source": [
    "gdf2_bld.to_file(\"Processes/Jkuat_Blds.gpkg\", driver = \"GPKG\")\n",
    "gdf2_rd.to_file(\"Processes/Jkuat_Roads.gpkg\", griver = \"GPKG\")\n",
    "gdf2_feat.to_file(\"Processes/Jkuat_Features.gpkg\", driver = \"GPKG\")"
   ]
  }
 ],
 "metadata": {
  "kernelspec": {
   "display_name": "GIS",
   "language": "python",
   "name": "python3"
  },
  "language_info": {
   "codemirror_mode": {
    "name": "ipython",
    "version": 3
   },
   "file_extension": ".py",
   "mimetype": "text/x-python",
   "name": "python",
   "nbconvert_exporter": "python",
   "pygments_lexer": "ipython3",
   "version": "3.10.11"
  }
 },
 "nbformat": 4,
 "nbformat_minor": 2
}
