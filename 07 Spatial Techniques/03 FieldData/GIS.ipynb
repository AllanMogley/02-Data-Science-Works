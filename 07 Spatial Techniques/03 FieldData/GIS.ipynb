{
 "cells": [
  {
   "cell_type": "code",
   "execution_count": null,
   "metadata": {},
   "outputs": [],
   "source": [
    "import geopandas as gpd\n",
    "import pandas as pd"
   ]
  },
  {
   "cell_type": "code",
   "execution_count": null,
   "metadata": {},
   "outputs": [],
   "source": [
    "txt = \"Data\\Data 2.txt\"\n",
    "df = pd.read_csv(txt, sep=\"\\t\")"
   ]
  },
  {
   "cell_type": "code",
   "execution_count": null,
   "metadata": {},
   "outputs": [],
   "source": [
    "df.set_index(\"type\", inplace = True)\n",
    "df.drop(index = [\"type\"], inplace = True)\n",
    "df.reset_index(inplace = True)\n",
    "# df.head(20)"
   ]
  },
  {
   "cell_type": "code",
   "execution_count": null,
   "metadata": {},
   "outputs": [],
   "source": [
    "df.fillna(method = 'ffill', inplace = True)\n",
    "df[\"eos\"].fillna(1, inplace = True)\n",
    "df[\"desc\"].fillna(df['name'], inplace = True)\n",
    "# df.head(10)"
   ]
  },
  {
   "cell_type": "code",
   "execution_count": null,
   "metadata": {},
   "outputs": [],
   "source": [
    "for col in df.columns:\n",
    "    if df[col].nunique() <= 2:\n",
    "        df.drop(columns = [col], inplace = True)\n",
    "\n",
    "df.drop(columns = ['color', 'name'], inplace = True)\n",
    "# df.head(10)"
   ]
  },
  {
   "cell_type": "code",
   "execution_count": null,
   "metadata": {},
   "outputs": [],
   "source": [
    "gdf = gpd.GeoDataFrame(data = df, crs = \"EPSG:4326\", geometry = gpd.points_from_xy(df.longitude, df.latitude)) # type: ignore\n",
    "gdf.drop(columns = [\"longitude\", \"latitude\"], inplace = True)\n",
    "gdf = gdf.to_crs(\"EPSG:32737\")\n",
    "\n",
    "gdf['fid'] = gdf.index + 1\n",
    "fid = gdf.pop('fid')\n",
    "gdf.insert(0, 'fid', fid)\n",
    "gdf.head(10)"
   ]
  },
  {
   "cell_type": "code",
   "execution_count": null,
   "metadata": {},
   "outputs": [],
   "source": [
    "e = 1618010.606367111\n",
    "f = -1741978.211608887\n",
    "\n",
    "a = 0.9916765364496314\n",
    "d = 1.175648448821448\n",
    "\n",
    "b = -0.1635616585599564\n",
    "c = 0.02551828620198648"
   ]
  },
  {
   "cell_type": "code",
   "execution_count": null,
   "metadata": {},
   "outputs": [],
   "source": [
    "# Transform to corresponding coordinates\n",
    "gdf2 = gpd.GeoDataFrame((gdf.affine_transform([a, b, c, d, e, f])))\n",
    "gdf2.geometry = gdf2[0]\n",
    "gdf2.drop(columns = [0], inplace = True)\n",
    "gdf2.set_crs(\"EPSG:32737\")\n",
    "gdf2.head(10)\n"
   ]
  },
  {
   "cell_type": "code",
   "execution_count": null,
   "metadata": {},
   "outputs": [],
   "source": [
    "gdf.columns\n",
    "cols = gdf.iloc[:, :3]\n",
    "cols\n",
    "\n",
    "data = pd.concat([cols, gdf2], axis = 1)\n",
    "data = gpd.GeoDataFrame(data, crs = \"EPSG:32737\")\n",
    "# data.head(10)"
   ]
  },
  {
   "cell_type": "code",
   "execution_count": null,
   "metadata": {},
   "outputs": [],
   "source": [
    "data2 = data[['fid', 'desc', 'altitude (m)']]\n",
    "data2['x'] = data.geometry.x\n",
    "data2['y'] = data.geometry.y\n",
    "\n",
    "names = {\n",
    "    'fid': 'P',\n",
    "    'y': 'N',\n",
    "    'x': 'E',\n",
    "    'altitude (m)': 'Z',\n",
    "    'desc': 'D'\n",
    "}\n",
    "\n",
    "data2.rename(columns = names, inplace = True)\n",
    "data2 = data2[['P', 'N', 'E', 'Z', 'D']]\n",
    "data2.head(10)\n"
   ]
  },
  {
   "cell_type": "code",
   "execution_count": null,
   "metadata": {},
   "outputs": [],
   "source": [
    "export = 'C:/Users/LUNA/Desktop/data.csv'\n",
    "# data2.to_csv(export, index=False, header=False)\n"
   ]
  }
 ],
 "metadata": {
  "kernelspec": {
   "display_name": "Rasters",
   "language": "python",
   "name": "python3"
  },
  "language_info": {
   "codemirror_mode": {
    "name": "ipython",
    "version": 3
   },
   "file_extension": ".py",
   "mimetype": "text/x-python",
   "name": "python",
   "nbconvert_exporter": "python",
   "pygments_lexer": "ipython3",
   "version": "3.10.11"
  }
 },
 "nbformat": 4,
 "nbformat_minor": 2
}
