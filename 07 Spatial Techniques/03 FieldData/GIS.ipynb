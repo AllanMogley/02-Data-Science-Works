{
 "cells": [
  {
   "cell_type": "code",
   "execution_count": 1,
   "metadata": {},
   "outputs": [],
   "source": [
    "import geopandas as gpd\n",
    "import pandas as pd"
   ]
  },
  {
   "cell_type": "code",
   "execution_count": 2,
   "metadata": {},
   "outputs": [],
   "source": [
    "txt = \"Data\\Data 2.txt\"\n",
    "df = pd.read_csv(txt, sep=\"\\t\")"
   ]
  },
  {
   "cell_type": "code",
   "execution_count": 3,
   "metadata": {},
   "outputs": [],
   "source": [
    "df.set_index(\"type\", inplace = True)\n",
    "df.drop(index = [\"type\"], inplace = True)\n",
    "df.reset_index(inplace = True)\n",
    "# df.head(20)"
   ]
  },
  {
   "cell_type": "code",
   "execution_count": 4,
   "metadata": {},
   "outputs": [
    {
     "name": "stderr",
     "output_type": "stream",
     "text": [
      "C:\\Users\\LUNA\\AppData\\Local\\Temp\\ipykernel_6776\\2458029604.py:1: FutureWarning: DataFrame.fillna with 'method' is deprecated and will raise in a future version. Use obj.ffill() or obj.bfill() instead.\n",
      "  df.fillna(method = 'ffill', inplace = True)\n",
      "C:\\Users\\LUNA\\AppData\\Local\\Temp\\ipykernel_6776\\2458029604.py:3: FutureWarning: Setting an item of incompatible dtype is deprecated and will raise in a future error of pandas. Value '['Area' 'Area' 'Area' ... 'Trees' 'Trees' 'Trees']' has dtype incompatible with float64, please explicitly cast to a compatible dtype first.\n",
      "  df[\"desc\"].fillna(df['name'], inplace = True)\n"
     ]
    }
   ],
   "source": [
    "df.fillna(method = 'ffill', inplace = True)\n",
    "df[\"eos\"].fillna(1, inplace = True)\n",
    "df[\"desc\"].fillna(df['name'], inplace = True)\n",
    "# df.head(10)"
   ]
  },
  {
   "cell_type": "code",
   "execution_count": 5,
   "metadata": {},
   "outputs": [],
   "source": [
    "for col in df.columns:\n",
    "    if df[col].nunique() <= 2:\n",
    "        df.drop(columns = [col], inplace = True)\n",
    "\n",
    "df.drop(columns = ['color', 'name'], inplace = True)\n",
    "# df.head(10)"
   ]
  },
  {
   "cell_type": "code",
   "execution_count": 62,
   "metadata": {},
   "outputs": [
    {
     "data": {
      "text/html": [
       "<div>\n",
       "<style scoped>\n",
       "    .dataframe tbody tr th:only-of-type {\n",
       "        vertical-align: middle;\n",
       "    }\n",
       "\n",
       "    .dataframe tbody tr th {\n",
       "        vertical-align: top;\n",
       "    }\n",
       "\n",
       "    .dataframe thead th {\n",
       "        text-align: right;\n",
       "    }\n",
       "</style>\n",
       "<table border=\"1\" class=\"dataframe\">\n",
       "  <thead>\n",
       "    <tr style=\"text-align: right;\">\n",
       "      <th></th>\n",
       "      <th>fid</th>\n",
       "      <th>altitude (m)</th>\n",
       "      <th>desc</th>\n",
       "      <th>geometry</th>\n",
       "    </tr>\n",
       "  </thead>\n",
       "  <tbody>\n",
       "    <tr>\n",
       "      <th>0</th>\n",
       "      <td>1</td>\n",
       "      <td>1521.2</td>\n",
       "      <td>Area</td>\n",
       "      <td>POINT (278867.357 9878331.137)</td>\n",
       "    </tr>\n",
       "    <tr>\n",
       "      <th>1</th>\n",
       "      <td>2</td>\n",
       "      <td>1522.5</td>\n",
       "      <td>Area</td>\n",
       "      <td>POINT (278973.918 9878345.402)</td>\n",
       "    </tr>\n",
       "    <tr>\n",
       "      <th>2</th>\n",
       "      <td>3</td>\n",
       "      <td>1522.7</td>\n",
       "      <td>Area</td>\n",
       "      <td>POINT (278968.116 9878465.611)</td>\n",
       "    </tr>\n",
       "    <tr>\n",
       "      <th>3</th>\n",
       "      <td>4</td>\n",
       "      <td>1523.2</td>\n",
       "      <td>Area</td>\n",
       "      <td>POINT (278965.180 9878531.578)</td>\n",
       "    </tr>\n",
       "    <tr>\n",
       "      <th>4</th>\n",
       "      <td>5</td>\n",
       "      <td>1522.2</td>\n",
       "      <td>Area</td>\n",
       "      <td>POINT (278872.928 9878533.664)</td>\n",
       "    </tr>\n",
       "    <tr>\n",
       "      <th>5</th>\n",
       "      <td>6</td>\n",
       "      <td>1520.8</td>\n",
       "      <td>Area</td>\n",
       "      <td>POINT (278818.728 9878524.602)</td>\n",
       "    </tr>\n",
       "    <tr>\n",
       "      <th>6</th>\n",
       "      <td>7</td>\n",
       "      <td>1520.1</td>\n",
       "      <td>Area</td>\n",
       "      <td>POINT (278752.434 9878500.666)</td>\n",
       "    </tr>\n",
       "    <tr>\n",
       "      <th>7</th>\n",
       "      <td>8</td>\n",
       "      <td>1521.2</td>\n",
       "      <td>Area</td>\n",
       "      <td>POINT (278867.357 9878331.137)</td>\n",
       "    </tr>\n",
       "    <tr>\n",
       "      <th>8</th>\n",
       "      <td>9</td>\n",
       "      <td>1521.6</td>\n",
       "      <td>Building</td>\n",
       "      <td>POINT (278870.516 9878469.212)</td>\n",
       "    </tr>\n",
       "    <tr>\n",
       "      <th>9</th>\n",
       "      <td>10</td>\n",
       "      <td>1522.8</td>\n",
       "      <td>Building</td>\n",
       "      <td>POINT (278937.880 9878471.998)</td>\n",
       "    </tr>\n",
       "  </tbody>\n",
       "</table>\n",
       "</div>"
      ],
      "text/plain": [
       "   fid altitude (m)      desc                        geometry\n",
       "0    1       1521.2      Area  POINT (278867.357 9878331.137)\n",
       "1    2       1522.5      Area  POINT (278973.918 9878345.402)\n",
       "2    3       1522.7      Area  POINT (278968.116 9878465.611)\n",
       "3    4       1523.2      Area  POINT (278965.180 9878531.578)\n",
       "4    5       1522.2      Area  POINT (278872.928 9878533.664)\n",
       "5    6       1520.8      Area  POINT (278818.728 9878524.602)\n",
       "6    7       1520.1      Area  POINT (278752.434 9878500.666)\n",
       "7    8       1521.2      Area  POINT (278867.357 9878331.137)\n",
       "8    9       1521.6  Building  POINT (278870.516 9878469.212)\n",
       "9   10       1522.8  Building  POINT (278937.880 9878471.998)"
      ]
     },
     "execution_count": 62,
     "metadata": {},
     "output_type": "execute_result"
    }
   ],
   "source": [
    "gdf = gpd.GeoDataFrame(data = df, crs = \"EPSG:4326\", geometry = gpd.points_from_xy(df.longitude, df.latitude)) # type: ignore\n",
    "gdf.drop(columns = [\"longitude\", \"latitude\"], inplace = True)\n",
    "gdf = gdf.to_crs(\"EPSG:32737\")\n",
    "\n",
    "gdf['fid'] = gdf.index + 1\n",
    "fid = gdf.pop('fid')\n",
    "gdf.insert(0, 'fid', fid)\n",
    "gdf.head(10)"
   ]
  },
  {
   "cell_type": "code",
   "execution_count": 139,
   "metadata": {},
   "outputs": [],
   "source": [
    "e = 1618010.606367111\n",
    "f = -1741978.211608887\n",
    "\n",
    "a = 0.9916765364496314\n",
    "d = 1.175648448821448\n",
    "\n",
    "b = -0.1635616585599564\n",
    "c = 0.02551828620198648"
   ]
  },
  {
   "cell_type": "code",
   "execution_count": 140,
   "metadata": {},
   "outputs": [
    {
     "data": {
      "text/html": [
       "<div>\n",
       "<style scoped>\n",
       "    .dataframe tbody tr th:only-of-type {\n",
       "        vertical-align: middle;\n",
       "    }\n",
       "\n",
       "    .dataframe tbody tr th {\n",
       "        vertical-align: top;\n",
       "    }\n",
       "\n",
       "    .dataframe thead th {\n",
       "        text-align: right;\n",
       "    }\n",
       "</style>\n",
       "<table border=\"1\" class=\"dataframe\">\n",
       "  <thead>\n",
       "    <tr style=\"text-align: right;\">\n",
       "      <th></th>\n",
       "      <th>0</th>\n",
       "    </tr>\n",
       "  </thead>\n",
       "  <tbody>\n",
       "    <tr>\n",
       "      <th>0</th>\n",
       "      <td>POINT (278840.597 9878582.683)</td>\n",
       "    </tr>\n",
       "    <tr>\n",
       "      <th>1</th>\n",
       "      <td>POINT (278943.938 9878602.174)</td>\n",
       "    </tr>\n",
       "    <tr>\n",
       "      <th>2</th>\n",
       "      <td>POINT (278918.522 9878743.349)</td>\n",
       "    </tr>\n",
       "    <tr>\n",
       "      <th>3</th>\n",
       "      <td>POINT (278904.820 9878820.828)</td>\n",
       "    </tr>\n",
       "    <tr>\n",
       "      <th>4</th>\n",
       "      <td>POINT (278812.995 9878820.927)</td>\n",
       "    </tr>\n",
       "    <tr>\n",
       "      <th>5</th>\n",
       "      <td>POINT (278760.729 9878808.890)</td>\n",
       "    </tr>\n",
       "    <tr>\n",
       "      <th>6</th>\n",
       "      <td>POINT (278698.901 9878779.058)</td>\n",
       "    </tr>\n",
       "    <tr>\n",
       "      <th>7</th>\n",
       "      <td>POINT (278840.597 9878582.683)</td>\n",
       "    </tr>\n",
       "    <tr>\n",
       "      <th>8</th>\n",
       "      <td>POINT (278821.145 9878745.092)</td>\n",
       "    </tr>\n",
       "    <tr>\n",
       "      <th>9</th>\n",
       "      <td>POINT (278887.493 9878750.086)</td>\n",
       "    </tr>\n",
       "  </tbody>\n",
       "</table>\n",
       "</div>"
      ],
      "text/plain": [
       "                                0\n",
       "0  POINT (278840.597 9878582.683)\n",
       "1  POINT (278943.938 9878602.174)\n",
       "2  POINT (278918.522 9878743.349)\n",
       "3  POINT (278904.820 9878820.828)\n",
       "4  POINT (278812.995 9878820.927)\n",
       "5  POINT (278760.729 9878808.890)\n",
       "6  POINT (278698.901 9878779.058)\n",
       "7  POINT (278840.597 9878582.683)\n",
       "8  POINT (278821.145 9878745.092)\n",
       "9  POINT (278887.493 9878750.086)"
      ]
     },
     "execution_count": 140,
     "metadata": {},
     "output_type": "execute_result"
    }
   ],
   "source": [
    "# Transform to corresponding coordinates\n",
    "gdf2 = gpd.GeoDataFrame((gdf.affine_transform([a, b, c, d, e, f])))\n",
    "gdf2.head(10)\n"
   ]
  }
 ],
 "metadata": {
  "kernelspec": {
   "display_name": "Rasters",
   "language": "python",
   "name": "python3"
  },
  "language_info": {
   "codemirror_mode": {
    "name": "ipython",
    "version": 3
   },
   "file_extension": ".py",
   "mimetype": "text/x-python",
   "name": "python",
   "nbconvert_exporter": "python",
   "pygments_lexer": "ipython3",
   "version": "3.10.11"
  }
 },
 "nbformat": 4,
 "nbformat_minor": 2
}
