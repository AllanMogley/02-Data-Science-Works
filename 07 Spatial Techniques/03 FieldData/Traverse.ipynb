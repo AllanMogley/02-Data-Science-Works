{
 "cells": [
  {
   "cell_type": "code",
   "execution_count": 1,
   "metadata": {},
   "outputs": [],
   "source": [
    "import pandas as pd\n",
    "import geopandas as gpd"
   ]
  },
  {
   "cell_type": "code",
   "execution_count": 20,
   "metadata": {},
   "outputs": [],
   "source": [
    "txt = \"Data/Traverse.txt\"\n",
    "df = pd.read_csv(txt, sep = \"\\t\")"
   ]
  },
  {
   "cell_type": "code",
   "execution_count": 21,
   "metadata": {},
   "outputs": [],
   "source": [
    "df.nunique()\n",
    "df.drop(columns = ['desc', 'kml_folder', 'type'], inplace = True)\n",
    "\n",
    "df.rename(columns={'name': 'description'}, inplace=True)\n",
    "df['description'].ffill(inplace=True)\n"
   ]
  },
  {
   "cell_type": "code",
   "execution_count": 44,
   "metadata": {},
   "outputs": [],
   "source": [
    "gdf = gpd.GeoDataFrame(data = df,\n",
    "                        crs = \"EPSG:4326\",\n",
    "                        geometry = gpd.points_from_xy(df['longitude'], df['latitude'])) # type: ignore\n",
    "\n",
    "gdf = gdf.to_crs('EPSG:32737')                        \n",
    "\n",
    "gdf.drop(columns = ['latitude', 'longitude'], inplace = True)\n",
    "gdf_ = gdf[['altitude (m)', 'description']]"
   ]
  },
  {
   "cell_type": "code",
   "execution_count": null,
   "metadata": {},
   "outputs": [],
   "source": [
    "e = 1618010.606367111\n",
    "f = -1741978.211608887\n",
    "\n",
    "a = 0.9916765364496314\n",
    "d = 1.175648448821448\n",
    "\n",
    "b = -0.1635616585599564\n",
    "c = 0.02551828620198648\n",
    "\n",
    "# Transform to corresponding coordinates\n",
    "gdf2 = gpd.GeoDataFrame((gdf.affine_transform([a, b, c, d, e, f])))\n",
    "gdf2.rename({0 : 'geometry'}, axis = 1, inplace = True)\n",
    "\n",
    "gdf2.head()"
   ]
  },
  {
   "cell_type": "code",
   "execution_count": 94,
   "metadata": {},
   "outputs": [],
   "source": [
    "gdf3 = pd.concat([gdf_, gdf2], axis = 1)\n",
    "gdf3 = gpd.GeoDataFrame(gdf3, crs = \"EPSG:32737\")\n",
    "# gdf3.head(30)"
   ]
  },
  {
   "cell_type": "code",
   "execution_count": null,
   "metadata": {},
   "outputs": [],
   "source": [
    "df_ = gdf3\n",
    "df_['x'] = gdf3.geometry.x\n",
    "df_['y'] = gdf3.geometry.y\n",
    "df_.drop(\"geometry\", axis = 1, inplace = True)\n",
    "df_['P'] = df_.index + 1\n",
    "\n",
    "names ={\n",
    "    \"description\" : \"D\",\n",
    "    \"altitude (m)\" : \"Z\",\n",
    "    \"x\" : \"E\",\n",
    "    \"y\" : \"N\"\n",
    "    }\n",
    "\n",
    "df_.rename(columns = names, inplace = True)\n",
    "df_ = df_[['P', 'N', 'E', 'Z', 'D']]\n",
    "# df_"
   ]
  },
  {
   "cell_type": "code",
   "execution_count": 97,
   "metadata": {},
   "outputs": [],
   "source": [
    "export = 'C:/Users/LUNA/Desktop/Traverse.csv'\n",
    "df_.to_csv(export, index=False, header=False)\n"
   ]
  }
 ],
 "metadata": {
  "kernelspec": {
   "display_name": "GIS",
   "language": "python",
   "name": "python3"
  },
  "language_info": {
   "codemirror_mode": {
    "name": "ipython",
    "version": 3
   },
   "file_extension": ".py",
   "mimetype": "text/x-python",
   "name": "python",
   "nbconvert_exporter": "python",
   "pygments_lexer": "ipython3",
   "version": "3.10.11"
  }
 },
 "nbformat": 4,
 "nbformat_minor": 2
}
