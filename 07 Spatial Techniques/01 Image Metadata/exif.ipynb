{
 "cells": [
  {
   "cell_type": "code",
   "execution_count": 1,
   "metadata": {},
   "outputs": [],
   "source": [
    "import os\n",
    "from exif import Image\n",
    "import pandas as pd"
   ]
  },
  {
   "cell_type": "code",
   "execution_count": 2,
   "metadata": {},
   "outputs": [],
   "source": [
    "images = \"images\"\n",
    "images_ = [os.path.join(images, x) for x in os.listdir(images) if x[-3:] == \"JPG\"]"
   ]
  },
  {
   "cell_type": "code",
   "execution_count": 3,
   "metadata": {},
   "outputs": [],
   "source": [
    "# Create Export names\n",
    "images_f = []\n",
    "for name in images_:\n",
    "    name = name[27:]\n",
    "    name = name[:4] + name[22:]\n",
    "    images_f.append(name)\n",
    "\n",
    "len(images_f)\n",
    "df = pd.DataFrame()\n",
    "df[\"Name\"] = images_f"
   ]
  },
  {
   "cell_type": "code",
   "execution_count": 84,
   "metadata": {},
   "outputs": [
    {
     "data": {
      "text/html": [
       "<div>\n",
       "<style scoped>\n",
       "    .dataframe tbody tr th:only-of-type {\n",
       "        vertical-align: middle;\n",
       "    }\n",
       "\n",
       "    .dataframe tbody tr th {\n",
       "        vertical-align: top;\n",
       "    }\n",
       "\n",
       "    .dataframe thead th {\n",
       "        text-align: right;\n",
       "    }\n",
       "</style>\n",
       "<table border=\"1\" class=\"dataframe\">\n",
       "  <thead>\n",
       "    <tr style=\"text-align: right;\">\n",
       "      <th></th>\n",
       "      <th>Name</th>\n",
       "      <th>yres</th>\n",
       "      <th>xres</th>\n",
       "      <th>Res. Unit</th>\n",
       "      <th>Aperture</th>\n",
       "      <th>S_Dist</th>\n",
       "    </tr>\n",
       "  </thead>\n",
       "  <tbody>\n",
       "    <tr>\n",
       "      <th>0</th>\n",
       "      <td>142_.JPG</td>\n",
       "      <td>72.0</td>\n",
       "      <td>72.0</td>\n",
       "      <td>2</td>\n",
       "      <td>2.97</td>\n",
       "      <td>0</td>\n",
       "    </tr>\n",
       "    <tr>\n",
       "      <th>1</th>\n",
       "      <td>143_.JPG</td>\n",
       "      <td>72.0</td>\n",
       "      <td>72.0</td>\n",
       "      <td>2</td>\n",
       "      <td>2.97</td>\n",
       "      <td>0</td>\n",
       "    </tr>\n",
       "    <tr>\n",
       "      <th>2</th>\n",
       "      <td>144_.JPG</td>\n",
       "      <td>72.0</td>\n",
       "      <td>72.0</td>\n",
       "      <td>2</td>\n",
       "      <td>2.97</td>\n",
       "      <td>0</td>\n",
       "    </tr>\n",
       "    <tr>\n",
       "      <th>3</th>\n",
       "      <td>145_.JPG</td>\n",
       "      <td>72.0</td>\n",
       "      <td>72.0</td>\n",
       "      <td>2</td>\n",
       "      <td>2.97</td>\n",
       "      <td>0</td>\n",
       "    </tr>\n",
       "    <tr>\n",
       "      <th>4</th>\n",
       "      <td>146_.JPG</td>\n",
       "      <td>72.0</td>\n",
       "      <td>72.0</td>\n",
       "      <td>2</td>\n",
       "      <td>2.97</td>\n",
       "      <td>0</td>\n",
       "    </tr>\n",
       "  </tbody>\n",
       "</table>\n",
       "</div>"
      ],
      "text/plain": [
       "       Name  yres  xres  Res. Unit  Aperture  S_Dist\n",
       "0  142_.JPG  72.0  72.0          2      2.97       0\n",
       "1  143_.JPG  72.0  72.0          2      2.97       0\n",
       "2  144_.JPG  72.0  72.0          2      2.97       0\n",
       "3  145_.JPG  72.0  72.0          2      2.97       0\n",
       "4  146_.JPG  72.0  72.0          2      2.97       0"
      ]
     },
     "execution_count": 84,
     "metadata": {},
     "output_type": "execute_result"
    }
   ],
   "source": [
    "xres = []\n",
    "yres = []\n",
    "resun = []\n",
    "aperture = []\n",
    "s_dist = []\n",
    "\n",
    "for x in images_:\n",
    "    with open(x, 'rb') as image_file:\n",
    "        my_image = Image(image_file)\n",
    "        xres.append(my_image.x_resolution)\n",
    "        yres.append(my_image.y_resolution)\n",
    "        resun.append(my_image.resolution_unit)\n",
    "        aperture.append(my_image.aperture_value)\n",
    "        s_dist.append(my_image.subject_distance_range)\n",
    "\n",
    "df[\"yres\"] = xres\n",
    "df[\"xres\"] = yres\n",
    "df[\"Res. Unit\"] = resun\n",
    "df[\"Aperture\"] = aperture\n",
    "df[\"S_Dist\"] = s_dist\n",
    "df.head()   "
   ]
  },
  {
   "cell_type": "code",
   "execution_count": null,
   "metadata": {},
   "outputs": [],
   "source": [
    "# for i in my_image:\n",
    "df2 = pd.DataFrame.from_dict(my_image.get_all())\n",
    "\n",
    "df2.head()"
   ]
  },
  {
   "cell_type": "code",
   "execution_count": null,
   "metadata": {},
   "outputs": [],
   "source": [
    "my_image.__delitem__(\"scene_type\")\n",
    "my_image.__delitem__('components_configuration')\n",
    "my_image.__delitem__('maker_note')\n",
    "my_image.__delitem__('flashpix_version')\n",
    "my_image.__delitem__('_interoperability_ifd_Pointer')\n",
    "my_image.__delitem__('file_source')\n",
    "my_image.get_all()\n"
   ]
  },
  {
   "cell_type": "code",
   "execution_count": 100,
   "metadata": {},
   "outputs": [
    {
     "data": {
      "text/plain": [
       "dict_values(['DCIM\\\\DJI_202307251543_002_', 'DJI', 'EP800', <Orientation.TOP_LEFT: 1>, 72.0, 72.0, <ResolutionUnit.INCHES: 2>, 'v00.01.1845', '2023:07:25 15:54:02', 1, 182, 686, 'Type=N, Mode=S, DE=None\\x00\\x00\\x00\\x00\\x00\\x00\\x00\\x00\\x00\\x00\\x00\\x00\\x00\\x00\\x00\\x00\\x00\\x00\\x00\\x00\\x00\\x00\\x00\\x00\\x00\\x00\\x00\\x00\\x00\\x00\\x00\\x00\\x00\\x00\\x00\\x00\\x00\\x00\\x00\\x00\\x00\\x00\\x00\\x00\\x00\\x00\\x00\\x00\\x00\\x00\\x00\\x00\\x00\\x00\\x00\\x00\\x00\\x00\\x00\\x00\\x00\\x00\\x00\\x00\\x00\\x00\\x00\\x00\\x00\\x00\\x00\\x00\\x00\\x00\\x00\\x00\\x00\\x00\\x00\\x00\\x00\\x00\\x00\\x00\\x00\\x00\\x00\\x00\\x00\\x00\\x00\\x00\\x00\\x00\\x00\\x00\\x00\\x00\\x00\\x00\\x00\\x00\\x00\\x00', 'v00.01.1845;1.3.0;v1.0.0\\x00\\x00\\x00\\x00\\x00\\x00\\x00\\x00\\x00\\x00\\x00\\x00\\x00\\x00\\x00\\x00\\x00\\x00\\x00\\x00\\x00\\x00\\x00\\x00\\x00\\x00\\x00\\x00\\x00\\x00\\x00\\x00\\x00\\x00\\x00\\x00\\x00\\x00\\x00\\x00\\x00\\x00\\x00\\x00\\x00\\x00\\x00\\x00\\x00\\x00\\x00\\x00\\x00\\x00\\x00\\x00\\x00\\x00\\x00\\x00\\x00\\x00\\x00\\x00\\x00\\x00\\x00\\x00\\x00\\x00\\x00\\x00\\x00\\x00\\x00\\x00\\x00\\x00\\x00\\x00\\x00\\x00\\x00\\x00\\x00\\x00\\x00\\x00\\x00\\x00\\x00\\x00\\x00\\x00\\x00\\x00\\x00\\x00\\x00\\x00\\x00\\x00\\x00', 6, 10228, 10397, 0.000625, 2.8, <ExposureProgram.SHUTTER_PRIORITY: 4>, 500, '0230', '2023:07:25 15:54:01', '2023:07:25 15:54:01', 3.465063769621422, 10.632, 2.97, 0.0, 2.97, 0.0, <MeteringMode.CENTER_WEIGHTED_AVERAGE: 2>, <LightSource.DAYLIGHT: 1>, Flash(flash_fired=False, flash_return=FlashReturn.RESERVED, flash_mode=FlashMode.UNKNOWN, flash_function_not_present=False, red_eye_reduction_supported=False, reserved=0), 8.8, <ColorSpace.SRGB: 1>, 5472, 3648, 0, 0, <ExposureMode.AUTO_EXPOSURE: 0>, <WhiteBalance.AUTO: 0>, 0, 24, <SceneCaptureType.STANDARD: 0>, 0, 0, <Saturation.NORMAL: 0>, <Sharpness.NORMAL: 0>, 0, 'e80aadffcf7b43eb3d0d0fc91997196b', 2, 'S', (1.0, 5.0, 10.8008), 'E', (37.0, 0.0, 26.5759), <GpsAltitudeRef.ABOVE_SEA_LEVEL: 0>, 1526.266])"
      ]
     },
     "execution_count": 100,
     "metadata": {},
     "output_type": "execute_result"
    }
   ],
   "source": [
    "my_image.get_all().values()"
   ]
  },
  {
   "cell_type": "code",
   "execution_count": 17,
   "metadata": {},
   "outputs": [
    {
     "data": {
      "text/plain": [
       "63"
      ]
     },
     "execution_count": 17,
     "metadata": {},
     "output_type": "execute_result"
    }
   ],
   "source": [
    "my_image.list_all()\n",
    "# my_image.resolution_unit"
   ]
  }
 ],
 "metadata": {
  "kernelspec": {
   "display_name": "exif_metadata",
   "language": "python",
   "name": "python3"
  },
  "language_info": {
   "codemirror_mode": {
    "name": "ipython",
    "version": 3
   },
   "file_extension": ".py",
   "mimetype": "text/x-python",
   "name": "python",
   "nbconvert_exporter": "python",
   "pygments_lexer": "ipython3",
   "version": "3.10.11"
  }
 },
 "nbformat": 4,
 "nbformat_minor": 2
}
