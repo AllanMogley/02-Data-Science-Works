{
 "cells": [
  {
   "cell_type": "code",
   "execution_count": 150,
   "metadata": {},
   "outputs": [],
   "source": [
    "import pandas as pd\n",
    "import geopandas as gpd\n",
    "import random"
   ]
  },
  {
   "cell_type": "code",
   "execution_count": 151,
   "metadata": {},
   "outputs": [],
   "source": [
    "soil = \"Soil Data/Grid/SoilData.gpkg\""
   ]
  },
  {
   "cell_type": "code",
   "execution_count": 152,
   "metadata": {},
   "outputs": [],
   "source": [
    "gdf = gpd.read_file(soil)\n",
    "# gdf.head()"
   ]
  },
  {
   "cell_type": "code",
   "execution_count": 153,
   "metadata": {},
   "outputs": [],
   "source": [
    "favorable = [56, 62, 63, 72, 73, 74, 75, 76, 80, 83, 87, 88, 90,\n",
    "            93, 94, 95, 97, 102, 104, 107, 109, 110, 117, 118,\n",
    "            119, 123, 125, 128, 131, 132, 134, 136, 137, 141,\n",
    "            142, 143, 144, 146, 147, 149, 150, 151, 152, 157]\n",
    "\n",
    "favorable2 = [82, 85, 89, 91, 103, 108, 111, 115, 133, 135]\n",
    "favorable3 = [58, 59, 77, 78, 81, 86, 99, 100, 105, 122, 124, 145, 156]\n",
    "\n",
    "# favorable3 = [x for x in favorable3 if x not in favorable2]\n",
    "# favorable3"
   ]
  },
  {
   "cell_type": "code",
   "execution_count": 154,
   "metadata": {},
   "outputs": [],
   "source": [
    "gdf[\"ID\"] = gdf.index + 1 "
   ]
  },
  {
   "cell_type": "code",
   "execution_count": 155,
   "metadata": {},
   "outputs": [],
   "source": [
    "size_class = [\"Fine particle\", \"Medium particle\", \"Coarse particle\", \"Stones\", \"Boulders\", \"Large boulders\"]\n",
    "Consistence = [\"Loose\", \"Soft\", \"Slightly Hard\", \"Extremely Hard\"]\n",
    "Color = [\"Black\", \"Very Dark Brown\", \"Dark Brown\", \"Brown\", \"Red\"]\n",
    "Humus = [\"Low\", \"Moderate\", \"Strong\", \"Very Strong\"]\n"
   ]
  },
  {
   "cell_type": "code",
   "execution_count": 156,
   "metadata": {},
   "outputs": [],
   "source": [
    "size_class1 = [\"Coarse particle\", \"Medium particle\"]\n",
    "Color_class = [\"Black\", \"Very Dark Brown\"]\n",
    "Consistence_ = [\"Loose\", \"Soft\"]\n",
    "Humus = [\"Strong\", \"Very Strong\"]"
   ]
  },
  {
   "cell_type": "code",
   "execution_count": 157,
   "metadata": {},
   "outputs": [],
   "source": [
    "size_class2 = [\"Coarse particle\", \"Stones\"]\n",
    "Color_class2 = [\"Brown\"]\n",
    "Consistence2_ = [\"Slightly Hard\", \"Extremely Hard\"]\n",
    "Humus2 = [\"Low\", \"Moderate\"]"
   ]
  },
  {
   "cell_type": "code",
   "execution_count": 158,
   "metadata": {},
   "outputs": [],
   "source": [
    "size_class3 = [\"Boulders\", \"Stones\"]\n",
    "Color_class3 = [\"Brown\"]\n",
    "Consistence3_ = [\"Extremely Hard\", \"Soft\"]\n",
    "Humus3 = [\"Low\", \"Moderate\"]"
   ]
  },
  {
   "cell_type": "code",
   "execution_count": 159,
   "metadata": {},
   "outputs": [
    {
     "name": "stderr",
     "output_type": "stream",
     "text": [
      "C:\\Users\\LUNA\\AppData\\Local\\Temp\\ipykernel_10088\\3896121086.py:1: FutureWarning: Setting an item of incompatible dtype is deprecated and will raise in a future error of pandas. Value '['Medium particle', 'Coarse particle', 'Coarse particle', 'Coarse particle', 'Medium particle', 'Coarse particle', 'Coarse particle', 'Medium particle', 'Coarse particle', 'Medium particle', 'Coarse particle', 'Medium particle', 'Medium particle', 'Coarse particle', 'Medium particle', 'Medium particle', 'Coarse particle', 'Medium particle', 'Coarse particle', 'Coarse particle', 'Medium particle', 'Medium particle', 'Medium particle', 'Medium particle', 'Coarse particle', 'Medium particle', 'Coarse particle', 'Coarse particle', 'Coarse particle', 'Medium particle', 'Medium particle', 'Coarse particle', 'Coarse particle', 'Medium particle', 'Medium particle', 'Coarse particle', 'Medium particle', 'Medium particle', 'Coarse particle', 'Coarse particle', 'Medium particle', 'Medium particle', 'Coarse particle', 'Coarse particle']' has dtype incompatible with float64, please explicitly cast to a compatible dtype first.\n",
      "  gdf.loc[gdf['Area Code'].isin(favorable), 'Size_Class'] = [random.choice(size_class1) for _ in range(len(gdf[gdf['Area Code'].isin(favorable)]))]\n",
      "C:\\Users\\LUNA\\AppData\\Local\\Temp\\ipykernel_10088\\3896121086.py:2: FutureWarning: Setting an item of incompatible dtype is deprecated and will raise in a future error of pandas. Value '['Very Dark Brown', 'Black', 'Black', 'Black', 'Very Dark Brown', 'Very Dark Brown', 'Black', 'Black', 'Black', 'Very Dark Brown', 'Black', 'Very Dark Brown', 'Very Dark Brown', 'Very Dark Brown', 'Black', 'Very Dark Brown', 'Black', 'Black', 'Black', 'Black', 'Black', 'Black', 'Very Dark Brown', 'Black', 'Black', 'Black', 'Black', 'Very Dark Brown', 'Very Dark Brown', 'Black', 'Very Dark Brown', 'Black', 'Very Dark Brown', 'Very Dark Brown', 'Black', 'Very Dark Brown', 'Very Dark Brown', 'Very Dark Brown', 'Black', 'Very Dark Brown', 'Very Dark Brown', 'Black', 'Very Dark Brown', 'Very Dark Brown']' has dtype incompatible with float64, please explicitly cast to a compatible dtype first.\n",
      "  gdf.loc[gdf['Area Code'].isin(favorable), 'Color_Class'] = [random.choice(Color_class) for _ in range(len(gdf[gdf['Area Code'].isin(favorable)]))]\n",
      "C:\\Users\\LUNA\\AppData\\Local\\Temp\\ipykernel_10088\\3896121086.py:3: FutureWarning: Setting an item of incompatible dtype is deprecated and will raise in a future error of pandas. Value '['Loose', 'Loose', 'Soft', 'Loose', 'Loose', 'Soft', 'Loose', 'Soft', 'Soft', 'Soft', 'Soft', 'Loose', 'Loose', 'Loose', 'Soft', 'Loose', 'Loose', 'Loose', 'Loose', 'Loose', 'Soft', 'Soft', 'Loose', 'Loose', 'Soft', 'Soft', 'Soft', 'Loose', 'Soft', 'Soft', 'Loose', 'Loose', 'Soft', 'Soft', 'Soft', 'Soft', 'Soft', 'Loose', 'Loose', 'Soft', 'Soft', 'Soft', 'Soft', 'Soft']' has dtype incompatible with float64, please explicitly cast to a compatible dtype first.\n",
      "  gdf.loc[gdf['Area Code'].isin(favorable), 'Consistence_Class'] = [random.choice(Consistence_) for _ in range(len(gdf[gdf['Area Code'].isin(favorable)]))]\n",
      "C:\\Users\\LUNA\\AppData\\Local\\Temp\\ipykernel_10088\\3896121086.py:4: FutureWarning: Setting an item of incompatible dtype is deprecated and will raise in a future error of pandas. Value '['Very Strong', 'Strong', 'Strong', 'Strong', 'Strong', 'Very Strong', 'Very Strong', 'Strong', 'Very Strong', 'Very Strong', 'Very Strong', 'Strong', 'Very Strong', 'Very Strong', 'Strong', 'Very Strong', 'Very Strong', 'Strong', 'Very Strong', 'Strong', 'Strong', 'Very Strong', 'Strong', 'Strong', 'Strong', 'Strong', 'Very Strong', 'Very Strong', 'Strong', 'Very Strong', 'Strong', 'Strong', 'Very Strong', 'Very Strong', 'Strong', 'Strong', 'Strong', 'Very Strong', 'Very Strong', 'Strong', 'Very Strong', 'Strong', 'Very Strong', 'Strong']' has dtype incompatible with float64, please explicitly cast to a compatible dtype first.\n",
      "  gdf.loc[gdf['Area Code'].isin(favorable), 'Humus_Class'] = [random.choice(Humus) for _ in range(len(gdf[gdf['Area Code'].isin(favorable)]))]\n"
     ]
    }
   ],
   "source": [
    "gdf.loc[gdf['Area Code'].isin(favorable), 'Size_Class'] = [random.choice(size_class1) for _ in range(len(gdf[gdf['Area Code'].isin(favorable)]))]\n",
    "gdf.loc[gdf['Area Code'].isin(favorable), 'Color_Class'] = [random.choice(Color_class) for _ in range(len(gdf[gdf['Area Code'].isin(favorable)]))]\n",
    "gdf.loc[gdf['Area Code'].isin(favorable), 'Consistence_Class'] = [random.choice(Consistence_) for _ in range(len(gdf[gdf['Area Code'].isin(favorable)]))]\n",
    "gdf.loc[gdf['Area Code'].isin(favorable), 'Humus_Class'] = [random.choice(Humus) for _ in range(len(gdf[gdf['Area Code'].isin(favorable)]))]\n",
    "# gdf.head(10)"
   ]
  },
  {
   "cell_type": "code",
   "execution_count": 160,
   "metadata": {},
   "outputs": [],
   "source": [
    "gdf.loc[gdf['Area Code'].isin(favorable2), 'Size_Class'] = [random.choice(size_class2) for _ in range(len(gdf[gdf['Area Code'].isin(favorable2)]))]\n",
    "gdf.loc[gdf['Area Code'].isin(favorable2), 'Color_Class'] = [random.choice(Color_class2) for _ in range(len(gdf[gdf['Area Code'].isin(favorable2)]))]\n",
    "gdf.loc[gdf['Area Code'].isin(favorable2), 'Consistence_Class'] = [random.choice(Consistence2_) for _ in range(len(gdf[gdf['Area Code'].isin(favorable2)]))]\n",
    "gdf.loc[gdf['Area Code'].isin(favorable2), 'Humus_Class'] = [random.choice(Humus2) for _ in range(len(gdf[gdf['Area Code'].isin(favorable2)]))]\n",
    "# gdf.head(10)"
   ]
  },
  {
   "cell_type": "code",
   "execution_count": 161,
   "metadata": {},
   "outputs": [],
   "source": [
    "gdf.loc[gdf['Area Code'].isin(favorable3), 'Size_Class'] = [random.choice(size_class3) for _ in range(len(gdf[gdf['Area Code'].isin(favorable3)]))]\n",
    "gdf.loc[gdf['Area Code'].isin(favorable3), 'Color_Class'] = [random.choice(Color_class3) for _ in range(len(gdf[gdf['Area Code'].isin(favorable3)]))]\n",
    "gdf.loc[gdf['Area Code'].isin(favorable3), 'Consistence_Class'] = [random.choice(Consistence3_) for _ in range(len(gdf[gdf['Area Code'].isin(favorable3)]))]\n",
    "gdf.loc[gdf['Area Code'].isin(favorable3), 'Humus_Class'] = [random.choice(Humus3) for _ in range(len(gdf[gdf['Area Code'].isin(favorable3)]))]\n",
    "# gdf.head(10)"
   ]
  },
  {
   "cell_type": "code",
   "execution_count": 162,
   "metadata": {},
   "outputs": [],
   "source": [
    "gdf.loc[:, 'Size_Class'] = gdf['Size_Class'].fillna(pd.Series([random.choice(size_class) for x in range(len(gdf))]))\n",
    "gdf.loc[:, 'Color_Class'] = gdf['Color_Class'].fillna(pd.Series([random.choice(Color) for x in range(len(gdf))]))\n",
    "gdf.loc[:, 'Consistence_Class'] = gdf['Consistence_Class'].fillna(pd.Series([random.choice(Consistence) for x in range(len(gdf))]))\n",
    "gdf.loc[:, 'Humus_Class'] = gdf['Humus_Class'].fillna(pd.Series([random.choice(Humus) for x in range(len(gdf))]))"
   ]
  },
  {
   "cell_type": "code",
   "execution_count": 163,
   "metadata": {},
   "outputs": [
    {
     "data": {
      "text/html": [
       "<div>\n",
       "<style scoped>\n",
       "    .dataframe tbody tr th:only-of-type {\n",
       "        vertical-align: middle;\n",
       "    }\n",
       "\n",
       "    .dataframe tbody tr th {\n",
       "        vertical-align: top;\n",
       "    }\n",
       "\n",
       "    .dataframe thead th {\n",
       "        text-align: right;\n",
       "    }\n",
       "</style>\n",
       "<table border=\"1\" class=\"dataframe\">\n",
       "  <thead>\n",
       "    <tr style=\"text-align: right;\">\n",
       "      <th></th>\n",
       "      <th>Area Code</th>\n",
       "      <th>geometry</th>\n",
       "      <th>ID</th>\n",
       "      <th>Size_Class</th>\n",
       "      <th>Color_Class</th>\n",
       "      <th>Consistence_Class</th>\n",
       "      <th>Humus_Class</th>\n",
       "    </tr>\n",
       "  </thead>\n",
       "  <tbody>\n",
       "    <tr>\n",
       "      <th>0</th>\n",
       "      <td>56</td>\n",
       "      <td>POINT (278709.049 9879280.412)</td>\n",
       "      <td>1</td>\n",
       "      <td>Medium particle</td>\n",
       "      <td>Very Dark Brown</td>\n",
       "      <td>Loose</td>\n",
       "      <td>Very Strong</td>\n",
       "    </tr>\n",
       "    <tr>\n",
       "      <th>1</th>\n",
       "      <td>57</td>\n",
       "      <td>POINT (278711.998 9879277.709)</td>\n",
       "      <td>2</td>\n",
       "      <td>Large boulders</td>\n",
       "      <td>Black</td>\n",
       "      <td>Soft</td>\n",
       "      <td>Very Strong</td>\n",
       "    </tr>\n",
       "    <tr>\n",
       "      <th>2</th>\n",
       "      <td>58</td>\n",
       "      <td>POINT (278714.946 9879275.006)</td>\n",
       "      <td>3</td>\n",
       "      <td>Boulders</td>\n",
       "      <td>Brown</td>\n",
       "      <td>Extremely Hard</td>\n",
       "      <td>Moderate</td>\n",
       "    </tr>\n",
       "    <tr>\n",
       "      <th>3</th>\n",
       "      <td>59</td>\n",
       "      <td>POINT (278717.895 9879272.303)</td>\n",
       "      <td>4</td>\n",
       "      <td>Stones</td>\n",
       "      <td>Brown</td>\n",
       "      <td>Soft</td>\n",
       "      <td>Moderate</td>\n",
       "    </tr>\n",
       "    <tr>\n",
       "      <th>4</th>\n",
       "      <td>60</td>\n",
       "      <td>POINT (278720.843 9879269.599)</td>\n",
       "      <td>5</td>\n",
       "      <td>Boulders</td>\n",
       "      <td>Brown</td>\n",
       "      <td>Slightly Hard</td>\n",
       "      <td>Strong</td>\n",
       "    </tr>\n",
       "    <tr>\n",
       "      <th>5</th>\n",
       "      <td>61</td>\n",
       "      <td>POINT (278723.792 9879266.896)</td>\n",
       "      <td>6</td>\n",
       "      <td>Coarse particle</td>\n",
       "      <td>Brown</td>\n",
       "      <td>Extremely Hard</td>\n",
       "      <td>Strong</td>\n",
       "    </tr>\n",
       "    <tr>\n",
       "      <th>6</th>\n",
       "      <td>62</td>\n",
       "      <td>POINT (278726.740 9879264.193)</td>\n",
       "      <td>7</td>\n",
       "      <td>Coarse particle</td>\n",
       "      <td>Black</td>\n",
       "      <td>Loose</td>\n",
       "      <td>Strong</td>\n",
       "    </tr>\n",
       "    <tr>\n",
       "      <th>7</th>\n",
       "      <td>63</td>\n",
       "      <td>POINT (278729.689 9879261.490)</td>\n",
       "      <td>8</td>\n",
       "      <td>Coarse particle</td>\n",
       "      <td>Black</td>\n",
       "      <td>Soft</td>\n",
       "      <td>Strong</td>\n",
       "    </tr>\n",
       "    <tr>\n",
       "      <th>8</th>\n",
       "      <td>64</td>\n",
       "      <td>POINT (278732.637 9879258.787)</td>\n",
       "      <td>9</td>\n",
       "      <td>Large boulders</td>\n",
       "      <td>Brown</td>\n",
       "      <td>Extremely Hard</td>\n",
       "      <td>Strong</td>\n",
       "    </tr>\n",
       "    <tr>\n",
       "      <th>9</th>\n",
       "      <td>65</td>\n",
       "      <td>POINT (278735.586 9879256.084)</td>\n",
       "      <td>10</td>\n",
       "      <td>Stones</td>\n",
       "      <td>Black</td>\n",
       "      <td>Extremely Hard</td>\n",
       "      <td>Very Strong</td>\n",
       "    </tr>\n",
       "  </tbody>\n",
       "</table>\n",
       "</div>"
      ],
      "text/plain": [
       "   Area Code                        geometry  ID       Size_Class  \\\n",
       "0         56  POINT (278709.049 9879280.412)   1  Medium particle   \n",
       "1         57  POINT (278711.998 9879277.709)   2   Large boulders   \n",
       "2         58  POINT (278714.946 9879275.006)   3         Boulders   \n",
       "3         59  POINT (278717.895 9879272.303)   4           Stones   \n",
       "4         60  POINT (278720.843 9879269.599)   5         Boulders   \n",
       "5         61  POINT (278723.792 9879266.896)   6  Coarse particle   \n",
       "6         62  POINT (278726.740 9879264.193)   7  Coarse particle   \n",
       "7         63  POINT (278729.689 9879261.490)   8  Coarse particle   \n",
       "8         64  POINT (278732.637 9879258.787)   9   Large boulders   \n",
       "9         65  POINT (278735.586 9879256.084)  10           Stones   \n",
       "\n",
       "       Color_Class Consistence_Class  Humus_Class  \n",
       "0  Very Dark Brown             Loose  Very Strong  \n",
       "1            Black              Soft  Very Strong  \n",
       "2            Brown    Extremely Hard     Moderate  \n",
       "3            Brown              Soft     Moderate  \n",
       "4            Brown     Slightly Hard       Strong  \n",
       "5            Brown    Extremely Hard       Strong  \n",
       "6            Black             Loose       Strong  \n",
       "7            Black              Soft       Strong  \n",
       "8            Brown    Extremely Hard       Strong  \n",
       "9            Black    Extremely Hard  Very Strong  "
      ]
     },
     "execution_count": 163,
     "metadata": {},
     "output_type": "execute_result"
    }
   ],
   "source": [
    "gdf.head(10)\n",
    "# gdf.isnull().sum()\n",
    "# print(null_counts)\n"
   ]
  },
  {
   "cell_type": "code",
   "execution_count": 173,
   "metadata": {},
   "outputs": [
    {
     "data": {
      "text/plain": [
       "array(['Very Strong', 'Moderate', 'Strong', 'Low'], dtype=object)"
      ]
     },
     "execution_count": 173,
     "metadata": {},
     "output_type": "execute_result"
    }
   ],
   "source": [
    "gdf[\"Size_Class\"].unique()\n",
    "gdf[\"Color_Class\"].unique()\n",
    "gdf[\"Consistence_Class\"].unique()\n",
    "gdf[\"Humus_Class\"].unique()\n"
   ]
  },
  {
   "cell_type": "code",
   "execution_count": 174,
   "metadata": {},
   "outputs": [],
   "source": [
    "size_map = {'Medium particle' : 1,\n",
    "            'Large boulders': 2,\n",
    "            'Boulders' : 3,\n",
    "            'Stones' : 4,\n",
    "            'Coarse particle' : 5,\n",
    "            'Fine particle' : 6}\n",
    "\n",
    "color_map = {'Very Dark Brown' : 1,\n",
    "            'Black': 2,\n",
    "            'Dark Brown' : 3,\n",
    "            'Brown' : 4,\n",
    "            'Red' : 5}\n",
    "\n",
    "consistence_map = {'Soft' : 1,\n",
    "            'Slightly Hard': 2,\n",
    "            'Extremely Hard' : 3,\n",
    "            'Loose' : 4}\n",
    "\n",
    "humus_map = {'Moderate' : 1,\n",
    "            'Strong': 2,\n",
    "            'Very Strong' : 3,\n",
    "            'Low' : 4}"
   ]
  },
  {
   "cell_type": "code",
   "execution_count": 176,
   "metadata": {},
   "outputs": [
    {
     "data": {
      "text/html": [
       "<div>\n",
       "<style scoped>\n",
       "    .dataframe tbody tr th:only-of-type {\n",
       "        vertical-align: middle;\n",
       "    }\n",
       "\n",
       "    .dataframe tbody tr th {\n",
       "        vertical-align: top;\n",
       "    }\n",
       "\n",
       "    .dataframe thead th {\n",
       "        text-align: right;\n",
       "    }\n",
       "</style>\n",
       "<table border=\"1\" class=\"dataframe\">\n",
       "  <thead>\n",
       "    <tr style=\"text-align: right;\">\n",
       "      <th></th>\n",
       "      <th>Area Code</th>\n",
       "      <th>geometry</th>\n",
       "      <th>ID</th>\n",
       "      <th>Size_Class</th>\n",
       "      <th>Color_Class</th>\n",
       "      <th>Consistence_Class</th>\n",
       "      <th>Humus_Class</th>\n",
       "      <th>Size_Class_Num</th>\n",
       "      <th>Color_Class_Num</th>\n",
       "      <th>Consistence_Class_Num</th>\n",
       "      <th>Humus_Class_Num</th>\n",
       "    </tr>\n",
       "  </thead>\n",
       "  <tbody>\n",
       "    <tr>\n",
       "      <th>0</th>\n",
       "      <td>56</td>\n",
       "      <td>POINT (278709.049 9879280.412)</td>\n",
       "      <td>1</td>\n",
       "      <td>Medium particle</td>\n",
       "      <td>Very Dark Brown</td>\n",
       "      <td>Loose</td>\n",
       "      <td>Very Strong</td>\n",
       "      <td>1</td>\n",
       "      <td>1</td>\n",
       "      <td>4</td>\n",
       "      <td>3</td>\n",
       "    </tr>\n",
       "    <tr>\n",
       "      <th>1</th>\n",
       "      <td>57</td>\n",
       "      <td>POINT (278711.998 9879277.709)</td>\n",
       "      <td>2</td>\n",
       "      <td>Large boulders</td>\n",
       "      <td>Black</td>\n",
       "      <td>Soft</td>\n",
       "      <td>Very Strong</td>\n",
       "      <td>2</td>\n",
       "      <td>2</td>\n",
       "      <td>1</td>\n",
       "      <td>3</td>\n",
       "    </tr>\n",
       "    <tr>\n",
       "      <th>2</th>\n",
       "      <td>58</td>\n",
       "      <td>POINT (278714.946 9879275.006)</td>\n",
       "      <td>3</td>\n",
       "      <td>Boulders</td>\n",
       "      <td>Brown</td>\n",
       "      <td>Extremely Hard</td>\n",
       "      <td>Moderate</td>\n",
       "      <td>3</td>\n",
       "      <td>4</td>\n",
       "      <td>3</td>\n",
       "      <td>1</td>\n",
       "    </tr>\n",
       "    <tr>\n",
       "      <th>3</th>\n",
       "      <td>59</td>\n",
       "      <td>POINT (278717.895 9879272.303)</td>\n",
       "      <td>4</td>\n",
       "      <td>Stones</td>\n",
       "      <td>Brown</td>\n",
       "      <td>Soft</td>\n",
       "      <td>Moderate</td>\n",
       "      <td>4</td>\n",
       "      <td>4</td>\n",
       "      <td>1</td>\n",
       "      <td>1</td>\n",
       "    </tr>\n",
       "    <tr>\n",
       "      <th>4</th>\n",
       "      <td>60</td>\n",
       "      <td>POINT (278720.843 9879269.599)</td>\n",
       "      <td>5</td>\n",
       "      <td>Boulders</td>\n",
       "      <td>Brown</td>\n",
       "      <td>Slightly Hard</td>\n",
       "      <td>Strong</td>\n",
       "      <td>3</td>\n",
       "      <td>4</td>\n",
       "      <td>2</td>\n",
       "      <td>2</td>\n",
       "    </tr>\n",
       "  </tbody>\n",
       "</table>\n",
       "</div>"
      ],
      "text/plain": [
       "   Area Code                        geometry  ID       Size_Class  \\\n",
       "0         56  POINT (278709.049 9879280.412)   1  Medium particle   \n",
       "1         57  POINT (278711.998 9879277.709)   2   Large boulders   \n",
       "2         58  POINT (278714.946 9879275.006)   3         Boulders   \n",
       "3         59  POINT (278717.895 9879272.303)   4           Stones   \n",
       "4         60  POINT (278720.843 9879269.599)   5         Boulders   \n",
       "\n",
       "       Color_Class Consistence_Class  Humus_Class  Size_Class_Num  \\\n",
       "0  Very Dark Brown             Loose  Very Strong               1   \n",
       "1            Black              Soft  Very Strong               2   \n",
       "2            Brown    Extremely Hard     Moderate               3   \n",
       "3            Brown              Soft     Moderate               4   \n",
       "4            Brown     Slightly Hard       Strong               3   \n",
       "\n",
       "   Color_Class_Num  Consistence_Class_Num  Humus_Class_Num  \n",
       "0                1                      4                3  \n",
       "1                2                      1                3  \n",
       "2                4                      3                1  \n",
       "3                4                      1                1  \n",
       "4                4                      2                2  "
      ]
     },
     "execution_count": 176,
     "metadata": {},
     "output_type": "execute_result"
    }
   ],
   "source": [
    "gdf['Size_Class_Num'] = gdf['Size_Class'].map(size_map)\n",
    "gdf['Color_Class_Num'] = gdf['Color_Class'].map(color_map)\n",
    "gdf['Consistence_Class_Num'] = gdf['Consistence_Class'].map(consistence_map)\n",
    "gdf['Humus_Class_Num'] = gdf['Humus_Class'].map(humus_map)\n",
    "gdf.head()"
   ]
  },
  {
   "cell_type": "code",
   "execution_count": 165,
   "metadata": {},
   "outputs": [],
   "source": [
    "gdf.to_file(\"SoilMap.gpkg\", layer='my_layer', driver=\"GPKG\")"
   ]
  }
 ],
 "metadata": {
  "kernelspec": {
   "display_name": "Rasters",
   "language": "python",
   "name": "python3"
  },
  "language_info": {
   "codemirror_mode": {
    "name": "ipython",
    "version": 3
   },
   "file_extension": ".py",
   "mimetype": "text/x-python",
   "name": "python",
   "nbconvert_exporter": "python",
   "pygments_lexer": "ipython3",
   "version": "3.10.11"
  }
 },
 "nbformat": 4,
 "nbformat_minor": 2
}
