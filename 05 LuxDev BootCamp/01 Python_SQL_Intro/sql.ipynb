{
 "cells": [
  {
   "cell_type": "code",
   "execution_count": 1,
   "metadata": {},
   "outputs": [],
   "source": [
    "import os\n",
    "\n",
    "import psycopg2\n",
    "from dotenv import load_dotenv"
   ]
  },
  {
   "cell_type": "code",
   "execution_count": 2,
   "metadata": {},
   "outputs": [],
   "source": [
    "# Connect to the database\n",
    "load_dotenv(\".env\", override=True)\n",
    "DBUSER = os.environ[\"DBUSER\"]\n",
    "DBPASS = os.environ[\"DBPASS\"]\n",
    "DBHOST = os.environ[\"DBHOST\"]\n",
    "DBNAME = os.environ[\"DBNAME\"]"
   ]
  },
  {
   "cell_type": "code",
   "execution_count": 3,
   "metadata": {},
   "outputs": [],
   "source": [
    "conn = psycopg2.connect(database=DBNAME, user=DBUSER, password=DBPASS, host=DBHOST)\n",
    "cur = conn.cursor()"
   ]
  },
  {
   "cell_type": "code",
   "execution_count": 4,
   "metadata": {},
   "outputs": [],
   "source": [
    "# cur.close()"
   ]
  },
  {
   "cell_type": "code",
   "execution_count": 20,
   "metadata": {},
   "outputs": [],
   "source": [
    "# cur.execute(\"CREATE TABLE restaurants (id SERIAL PRIMARY KEY,name VARCHAR(255) NOT NULL)\")\n",
    "# cur.execute(\"INSERT INTO restaurants (id, name) VALUES ('3', 'test')\")\n",
    "# conn.commit()"
   ]
  },
  {
   "cell_type": "code",
   "execution_count": 24,
   "metadata": {},
   "outputs": [],
   "source": [
    "# cur.execute(\"DELETE FROM restaurants WHERE id = 3\")\n",
    "# conn.commit()"
   ]
  },
  {
   "cell_type": "code",
   "execution_count": null,
   "metadata": {},
   "outputs": [],
   "source": [
    "# cur.execute(\"UPDATE restaurants SET id = id - 1\")\n",
    "# conn.commit()\n"
   ]
  },
  {
   "cell_type": "code",
   "execution_count": 10,
   "metadata": {},
   "outputs": [],
   "source": [
    "cur.execute(\"\"\"\n",
    "    UPDATE customer_data SET phonenumber = \n",
    "    CASE \n",
    "        WHEN id = 1 THEN '1234567890'\n",
    "        WHEN id = 2 THEN '0987654321'\n",
    "        WHEN id = 3 THEN '0982345678'\n",
    "        WHEN id = 4 THEN '1556633562'\n",
    "        WHEN id = 5 THEN '0948722455'\n",
    "        WHEN id = 6 THEN '5555908754'\n",
    "        WHEN id = 7 THEN '4563423456'\n",
    "        WHEN id = 8 THEN '6543287999'\n",
    "        WHEN id = 9 THEN '9090131232'\n",
    "        WHEN id = 10 THEN '1234352114'\n",
    "        WHEN id = 11 THEN '6767234562'\n",
    "    END;\n",
    "\"\"\")\n",
    "conn.commit()"
   ]
  },
  {
   "cell_type": "code",
   "execution_count": 11,
   "metadata": {},
   "outputs": [],
   "source": [
    "cur.execute(\"SELECT phonenumber from customer_data\")\n",
    "conn.commit()"
   ]
  },
  {
   "cell_type": "code",
   "execution_count": 14,
   "metadata": {},
   "outputs": [],
   "source": [
    "cur.execute(\n",
    "    \"\"\"\n",
    "    UPDATE customer_data SET email = \n",
    "    CASE\n",
    "        WHEN id = 1 THEN 'John@gmail.com'\n",
    "        WHEN id = 2 THEN 'Jane@gmail.com'\n",
    "        WHEN id = 3 THEN 'bob@gmail.com'\n",
    "        WHEN id = 4 THEN 'alice@gmail.com'\n",
    "        WHEN id = 5 THEN 'mike@gmail.com'\n",
    "        WHEN id = 6 THEN 'sarah@gmail.com'\n",
    "        WHEN id = 7 THEN 'tom@gmail.com'\n",
    "        WHEN id = 8 THEN 'emily@gmail.com'\n",
    "        WHEN id = 9 THEN 'david@gmail.com'\n",
    "        WHEN id = 10 THEN 'linda@gmail.com'\n",
    "        WHEN id = 11 THEN 'allanmogley@gmail.com'\n",
    "    END;\n",
    "\n",
    "    select name, email from customer_data\n",
    "    \"\"\"\n",
    ")\n",
    "conn.commit()"
   ]
  }
 ],
 "metadata": {
  "kernelspec": {
   "display_name": "DataBases",
   "language": "python",
   "name": "python3"
  },
  "language_info": {
   "codemirror_mode": {
    "name": "ipython",
    "version": 3
   },
   "file_extension": ".py",
   "mimetype": "text/x-python",
   "name": "python",
   "nbconvert_exporter": "python",
   "pygments_lexer": "ipython3",
   "version": "3.10.11"
  },
  "orig_nbformat": 4
 },
 "nbformat": 4,
 "nbformat_minor": 2
}
